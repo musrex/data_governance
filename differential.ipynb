{
 "cells": [
  {
   "cell_type": "code",
   "execution_count": 31,
   "metadata": {},
   "outputs": [
    {
     "name": "stdout",
     "output_type": "stream",
     "text": [
      "True answer: 1009\n",
      "Noisy answer: 1009.8614114701348\n"
     ]
    }
   ],
   "source": [
    "import pandas as pd\n",
    "import numpy as np\n",
    "\n",
    "# Load the dataset\n",
    "df = pd.read_csv('Customer_Survey.csv')\n",
    "\n",
    "# Define the sensitivity of the query\n",
    "sensitivity = .5  # This is a placeholder value, adjust according to your dataset\n",
    "\n",
    "# Define the desired privacy budget\n",
    "epsilon = .10  # This is a placeholder value, adjust according to your privacy needs\n",
    "\n",
    "# Define the query\n",
    "def query(df):\n",
    "    # This is a placeholder query that counts the number of rows in the equivalence class 'n'\n",
    "    # Replace with your actual query\n",
    "    return df[df['Region'] == 1].shape[0]\n",
    "\n",
    "# Get the true answer\n",
    "true_answer = query(df)\n",
    "\n",
    "# Apply the Laplace mechanism\n",
    "noise = np.random.laplace(loc=0, scale=sensitivity/epsilon)\n",
    "noisy_answer = true_answer + noise\n",
    "\n",
    "print(f'True answer: {true_answer}')\n",
    "print(f'Noisy answer: {noisy_answer}')"
   ]
  },
  {
   "cell_type": "code",
   "execution_count": 43,
   "metadata": {},
   "outputs": [
    {
     "name": "stdout",
     "output_type": "stream",
     "text": [
      "16%\n"
     ]
    }
   ],
   "source": [
    "# Calculate the probability of an attack attempt\n",
    "prob_attack_attempt = 30 / 160\n",
    "\n",
    "# Calculate the probability of successful identification\n",
    "prob_successful_identification = np.exp(-epsilon)\n",
    "\n",
    "# Calculate the risk\n",
    "risk = prob_attack_attempt * prob_successful_identification\n",
    "print(f'{int(risk * 100)}%')"
   ]
  }
 ],
 "metadata": {
  "kernelspec": {
   "display_name": "venv",
   "language": "python",
   "name": "python3"
  },
  "language_info": {
   "codemirror_mode": {
    "name": "ipython",
    "version": 3
   },
   "file_extension": ".py",
   "mimetype": "text/x-python",
   "name": "python",
   "nbconvert_exporter": "python",
   "pygments_lexer": "ipython3",
   "version": "3.10.6"
  },
  "orig_nbformat": 4
 },
 "nbformat": 4,
 "nbformat_minor": 2
}
